{
  "nbformat": 4,
  "nbformat_minor": 0,
  "metadata": {
    "colab": {
      "name": "Perceptron.ipynb",
      "provenance": [],
      "collapsed_sections": [],
      "include_colab_link": true
    },
    "kernelspec": {
      "name": "python3",
      "display_name": "Python 3"
    }
  },
  "cells": [
    {
      "cell_type": "markdown",
      "metadata": {
        "id": "view-in-github",
        "colab_type": "text"
      },
      "source": [
        "<a href=\"https://colab.research.google.com/github/vidulkumar/AI-MCA-505/blob/master/Perceptron.ipynb\" target=\"_parent\"><img src=\"https://colab.research.google.com/assets/colab-badge.svg\" alt=\"Open In Colab\"/></a>"
      ]
    },
    {
      "cell_type": "code",
      "metadata": {
        "id": "XCcWf_hqKjH-",
        "colab_type": "code",
        "colab": {}
      },
      "source": [
        "import numpy as np\n",
        "\n",
        "class Perceptron(object):\n",
        "  def __init__(self , threshold = 0,alpha=0.01,epoch=100):\n",
        "    self.alpha = alpha\n",
        "    self.epoch = epoch\n",
        "    self.threshold = threshold\n",
        "\n",
        "  \n",
        "  def learn(self,inp,out):\n",
        "    \n",
        "    \n",
        "    m = inp.shape[1] #\n",
        "    N = inp.shape[0] #length of training set\n",
        "    self.weights = np.zeros(m)\n",
        "    self.errors_ = []\n",
        "    for i in range(0,self.epoch):\n",
        "\n",
        "      errors = 0\n",
        "      for x_n,y_n in zip(inp,out):\n",
        "        x_n = x_n.reshape((m,)) \n",
        "        y_i = self.predict(x_n)\n",
        "        update = self.alpha*(y_n -y_i)*x_n\n",
        "        self.weights = self.weights + update\n",
        "        errors = errors + np.sum(update != 0.0)/(m)\n",
        "      self.errors_.append(errors)\n",
        "\n",
        "       \n",
        "  \n",
        "  def predict(self, v ):\n",
        "\n",
        "    return np.where(np.dot(self.weights,v) >= self.threshold,1,-1)\n",
        "      \n",
        "    "
      ],
      "execution_count": 0,
      "outputs": []
    },
    {
      "cell_type": "code",
      "metadata": {
        "id": "wxxzPnYmL4PD",
        "colab_type": "code",
        "outputId": "46c59801-28c3-45ce-d2e3-6f0698e5be99",
        "colab": {
          "base_uri": "https://localhost:8080/",
          "height": 34
        }
      },
      "source": [
        "OR = np.array([[0,0,0],[0,1,1],[1,0,1],[1,1,1]])\n",
        "OR_Perceptron = Perceptron(0.5,0.1,100)\n",
        "OR_Perceptron.learn(OR[:,0:2],OR[:,2:])\n",
        "print(OR_Perceptron.predict([0,0]))\n"
      ],
      "execution_count": 30,
      "outputs": [
        {
          "output_type": "stream",
          "text": [
            "-1\n"
          ],
          "name": "stdout"
        }
      ]
    },
    {
      "cell_type": "code",
      "metadata": {
        "id": "Fr9tIkLccLQ2",
        "colab_type": "code",
        "colab": {
          "base_uri": "https://localhost:8080/",
          "height": 34
        },
        "outputId": "8643b9b9-7d68-445f-e0e2-9588e9db480c"
      },
      "source": [
        "AND = np.array([[0,0,0],[0,1,0],[1,0,0],[1,1,1]])\n",
        "AND_Perceptron = Perceptron(1.5,0.1,100)\n",
        "AND_Perceptron.learn(AND[:,0:2],AND[:,2:])\n",
        "print(AND_Perceptron.predict([1,1]))\n"
      ],
      "execution_count": 32,
      "outputs": [
        {
          "output_type": "stream",
          "text": [
            "1\n"
          ],
          "name": "stdout"
        }
      ]
    }
  ]
}